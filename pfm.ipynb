{
 "cells": [
  {
   "cell_type": "code",
   "execution_count": 15,
   "id": "44ec7410-fb15-46af-bb38-a02472e8bec0",
   "metadata": {},
   "outputs": [
    {
     "data": {
      "text/plain": [
       "True"
      ]
     },
     "execution_count": 15,
     "metadata": {},
     "output_type": "execute_result"
    }
   ],
   "source": [
    "import numpy as np\n",
    "import re\n",
    "import sys\n",
    "import cv2\n",
    "\n",
    "'''\n",
    "Load a PFM file into a Numpy array. Note that it will have\n",
    "a shape of H x W, not W x H. Returns a tuple containing the\n",
    "loaded image and the scale factor from the file.\n",
    "\n",
    "Taken from https://gist.github.com/chpatrick/8935738\n",
    "'''\n",
    "def load_pfm(filename, resize=1):\n",
    "  color = None\n",
    "  width = None\n",
    "  height = None\n",
    "  scale = None\n",
    "  endian = None\n",
    "\n",
    "  with open(filename, 'rb') as file:\n",
    "    header = file.readline().decode('utf-8').rstrip()\n",
    "    if header == 'PF':\n",
    "      color = True\n",
    "    elif header == 'Pf':\n",
    "      color = False\n",
    "    else:\n",
    "      raise Exception('Not a PFM file.')\n",
    "\n",
    "    dim_match = re.match(r'^(\\d+)\\s*(\\d+)\\s*$', file.readline().decode('utf-8'))\n",
    "    if not dim_match:\n",
    "      raise Exception('Malformed PFM header.')\n",
    "    width, height = map(int, dim_match.groups())\n",
    "\n",
    "    scale = float(file.readline().decode('utf-8').rstrip())\n",
    "    if scale < 0: # little-endian\n",
    "      endian = '<'\n",
    "      scale = -scale\n",
    "    else:\n",
    "      endian = '>' # big-endian\n",
    "\n",
    "    data = np.fromfile(file, endian + 'f')\n",
    "\n",
    "  shape = (height, width, 3) if color else (height, width)\n",
    "  data = np.reshape(data, shape)[::-1]\n",
    "\n",
    "  if resize != 1:\n",
    "    data = cv2.resize(data, None, fx=resize, fy=resize, interpolation=cv2.INTER_AREA).astype(float) * resize\n",
    "\n",
    "  is_inf = data == np.inf\n",
    "  data[is_inf] = -1\n",
    "  return data\n",
    "key = 'Bicycle1-imperfect'\n",
    "# f = open('./dataset-2014/Bicycle1-imperfect/disp0.pfm', 'rb')\n",
    "gt = load_pfm('./dataset-2014/' + key + '/disp0.pfm', resize=1)\n",
    "cv2.imwrite('./myoutput/' + 'a' + '_gt_ssd' + '.png', gt )"
   ]
  }
 ],
 "metadata": {
  "kernelspec": {
   "display_name": "Python 3",
   "language": "python",
   "name": "python3"
  },
  "language_info": {
   "codemirror_mode": {
    "name": "ipython",
    "version": 3
   },
   "file_extension": ".py",
   "mimetype": "text/x-python",
   "name": "python",
   "nbconvert_exporter": "python",
   "pygments_lexer": "ipython3",
   "version": "3.7.11"
  }
 },
 "nbformat": 4,
 "nbformat_minor": 5
}
